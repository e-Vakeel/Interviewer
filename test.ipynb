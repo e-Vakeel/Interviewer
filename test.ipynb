{
 "cells": [
  {
   "cell_type": "code",
   "execution_count": 1,
   "metadata": {},
   "outputs": [
    {
     "name": "stdout",
     "output_type": "stream",
     "text": [
      "Error: File not found - --f=/home/blagden/.local/share/jupyter/runtime/kernel-v2-28950hfqP7nL66njQ.json\n"
     ]
    }
   ],
   "source": [
    "import requests\n",
    "import sys\n",
    "import json\n",
    "\n",
    "def process_image(image_path, server_url='http://localhost:5000/process-image'):\n",
    "    \"\"\"\n",
    "    Send an image file to the image processing server and print the results.\n",
    "    \n",
    "    :param image_path: Path to the image file to be processed\n",
    "    :param server_url: URL of the image processing server (default: http://localhost:5000/process-image)\n",
    "    \"\"\"\n",
    "    try:\n",
    "        with open(image_path, 'rb') as image_file:\n",
    "            files = {'image': (image_path, image_file)}\n",
    "            response = requests.post(server_url, files=files)\n",
    "\n",
    "        if response.status_code == 200:\n",
    "            result = response.json()\n",
    "            print(\"Extracted Text:\")\n",
    "            print(result['extracted_text'])\n",
    "            print(\"\\nClaude's Analysis:\")\n",
    "            print(result['claude_analysis'])\n",
    "        else:\n",
    "            print(f\"Error: Server returned status code {response.status_code}\")\n",
    "            print(response.text)\n",
    "    \n",
    "    except FileNotFoundError:\n",
    "        print(f\"Error: File not found - {image_path}\")\n",
    "    except requests.RequestException as e:\n",
    "        print(f\"Error: Failed to send request - {e}\")\n",
    "    except json.JSONDecodeError:\n",
    "        print(\"Error: Failed to parse server response\")\n",
    "    except KeyError:\n",
    "        print(\"Error: Unexpected response format from server\")\n",
    "\n",
    "if __name__ == \"__main__\":\n",
    "    if len(sys.argv) < 2:\n",
    "        print(\"Usage: python client.py <path_to_image_file>\")\n",
    "        sys.exit(1)\n",
    "\n",
    "    image_path = sys.argv[1]\n",
    "    process_image(image_path)"
   ]
  },
  {
   "cell_type": "code",
   "execution_count": null,
   "metadata": {},
   "outputs": [],
   "source": []
  }
 ],
 "metadata": {
  "kernelspec": {
   "display_name": "Python 3",
   "language": "python",
   "name": "python3"
  },
  "language_info": {
   "codemirror_mode": {
    "name": "ipython",
    "version": 3
   },
   "file_extension": ".py",
   "mimetype": "text/x-python",
   "name": "python",
   "nbconvert_exporter": "python",
   "pygments_lexer": "ipython3",
   "version": "3.12.5"
  }
 },
 "nbformat": 4,
 "nbformat_minor": 2
}
